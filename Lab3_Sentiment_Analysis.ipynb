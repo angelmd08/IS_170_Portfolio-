{
  "nbformat": 4,
  "nbformat_minor": 0,
  "metadata": {
    "colab": {
      "provenance": []
    },
    "kernelspec": {
      "name": "python3",
      "display_name": "Python 3"
    },
    "language_info": {
      "name": "python"
    }
  },
  "cells": [
    {
      "cell_type": "code",
      "execution_count": 1,
      "metadata": {
        "id": "aJiJRfmMtH7J",
        "colab": {
          "base_uri": "https://localhost:8080/"
        },
        "outputId": "ba04bde9-4a9f-4a7e-9d7e-1a7b5ec78200"
      },
      "outputs": [
        {
          "output_type": "stream",
          "name": "stdout",
          "text": [
            "Looking in indexes: https://pypi.org/simple, https://us-python.pkg.dev/colab-wheels/public/simple/\n",
            "Requirement already satisfied: Textblob in /usr/local/lib/python3.10/dist-packages (0.17.1)\n",
            "Requirement already satisfied: nltk>=3.1 in /usr/local/lib/python3.10/dist-packages (from Textblob) (3.8.1)\n",
            "Requirement already satisfied: tqdm in /usr/local/lib/python3.10/dist-packages (from nltk>=3.1->Textblob) (4.65.0)\n",
            "Requirement already satisfied: joblib in /usr/local/lib/python3.10/dist-packages (from nltk>=3.1->Textblob) (1.2.0)\n",
            "Requirement already satisfied: click in /usr/local/lib/python3.10/dist-packages (from nltk>=3.1->Textblob) (8.1.3)\n",
            "Requirement already satisfied: regex>=2021.8.3 in /usr/local/lib/python3.10/dist-packages (from nltk>=3.1->Textblob) (2022.10.31)\n"
          ]
        }
      ],
      "source": [
        "!pip install Textblob"
      ]
    },
    {
      "cell_type": "code",
      "source": [
        "!pip install vaderSentiment"
      ],
      "metadata": {
        "id": "vidkL9ujtOHB",
        "colab": {
          "base_uri": "https://localhost:8080/"
        },
        "outputId": "78fbe225-3bd5-4dee-a7a0-34e7621b356a"
      },
      "execution_count": 2,
      "outputs": [
        {
          "output_type": "stream",
          "name": "stdout",
          "text": [
            "Looking in indexes: https://pypi.org/simple, https://us-python.pkg.dev/colab-wheels/public/simple/\n",
            "Collecting vaderSentiment\n",
            "  Downloading vaderSentiment-3.3.2-py2.py3-none-any.whl (125 kB)\n",
            "\u001b[2K     \u001b[90m━━━━━━━━━━━━━━━━━━━━━━━━━━━━━━━━━━━━━━━\u001b[0m \u001b[32m126.0/126.0 kB\u001b[0m \u001b[31m2.8 MB/s\u001b[0m eta \u001b[36m0:00:00\u001b[0m\n",
            "\u001b[?25hRequirement already satisfied: requests in /usr/local/lib/python3.10/dist-packages (from vaderSentiment) (2.27.1)\n",
            "Requirement already satisfied: urllib3<1.27,>=1.21.1 in /usr/local/lib/python3.10/dist-packages (from requests->vaderSentiment) (1.26.15)\n",
            "Requirement already satisfied: certifi>=2017.4.17 in /usr/local/lib/python3.10/dist-packages (from requests->vaderSentiment) (2022.12.7)\n",
            "Requirement already satisfied: charset-normalizer~=2.0.0 in /usr/local/lib/python3.10/dist-packages (from requests->vaderSentiment) (2.0.12)\n",
            "Requirement already satisfied: idna<4,>=2.5 in /usr/local/lib/python3.10/dist-packages (from requests->vaderSentiment) (3.4)\n",
            "Installing collected packages: vaderSentiment\n",
            "Successfully installed vaderSentiment-3.3.2\n"
          ]
        }
      ]
    },
    {
      "cell_type": "code",
      "source": [
        "from vaderSentiment.vaderSentiment import SentimentIntensityAnalyzer\n",
        "analyser=SentimentIntensityAnalyzer()"
      ],
      "metadata": {
        "id": "WYi0WGfwuWvg"
      },
      "execution_count": 3,
      "outputs": []
    },
    {
      "cell_type": "code",
      "source": [
        "def sentiment_analyzer_scores(sentence):\n",
        "  score=analyser.polarity_scores(sentence)\n",
        "  print(\"{:-<40}{}\".format(sentence,str(score)))\n",
        "\n",
        "print(sentiment_analyzer_scores('The car is hella sick!'))"
      ],
      "metadata": {
        "id": "ucINXpuluh0w",
        "colab": {
          "base_uri": "https://localhost:8080/"
        },
        "outputId": "51b314cd-713c-487f-cf6e-21aa39c15bdd"
      },
      "execution_count": 4,
      "outputs": [
        {
          "output_type": "stream",
          "name": "stdout",
          "text": [
            "The car is hella sick!------------------{'neg': 0.493, 'neu': 0.507, 'pos': 0.0, 'compound': -0.5974}\n",
            "None\n"
          ]
        }
      ]
    },
    {
      "cell_type": "code",
      "source": [
        "print(sentiment_analyzer_scores('The car is hella sick'))\n",
        "print(sentiment_analyzer_scores('The car is hella sick!'))\n",
        "print(sentiment_analyzer_scores('The car is hella sick!!'))\n",
        "print(sentiment_analyzer_scores('The car is hella sick!!!'))"
      ],
      "metadata": {
        "id": "IHECKLtBvMAK",
        "colab": {
          "base_uri": "https://localhost:8080/"
        },
        "outputId": "294ed80f-5030-43f4-c53b-c33ab420422f"
      },
      "execution_count": 5,
      "outputs": [
        {
          "output_type": "stream",
          "name": "stdout",
          "text": [
            "The car is hella sick-------------------{'neg': 0.473, 'neu': 0.527, 'pos': 0.0, 'compound': -0.5563}\n",
            "None\n",
            "The car is hella sick!------------------{'neg': 0.493, 'neu': 0.507, 'pos': 0.0, 'compound': -0.5974}\n",
            "None\n",
            "The car is hella sick!!-----------------{'neg': 0.511, 'neu': 0.489, 'pos': 0.0, 'compound': -0.6342}\n",
            "None\n",
            "The car is hella sick!!!----------------{'neg': 0.528, 'neu': 0.472, 'pos': 0.0, 'compound': -0.6672}\n",
            "None\n"
          ]
        }
      ]
    },
    {
      "cell_type": "code",
      "source": [
        "print(sentiment_analyzer_scores('The car is hella cool!'))\n",
        "print(sentiment_analyzer_scores('The car is not that bad!'))\n",
        "print(sentiment_analyzer_scores('The car is hella sick!'))"
      ],
      "metadata": {
        "id": "7BGWWiARvVRj",
        "colab": {
          "base_uri": "https://localhost:8080/"
        },
        "outputId": "ef4ab9b0-b018-4279-b54c-70db5ec74491"
      },
      "execution_count": 6,
      "outputs": [
        {
          "output_type": "stream",
          "name": "stdout",
          "text": [
            "The car is hella cool!------------------{'neg': 0.0, 'neu': 0.581, 'pos': 0.419, 'compound': 0.4376}\n",
            "None\n",
            "The car is not that bad!----------------{'neg': 0.0, 'neu': 0.614, 'pos': 0.386, 'compound': 0.484}\n",
            "None\n",
            "The car is hella sick!------------------{'neg': 0.493, 'neu': 0.507, 'pos': 0.0, 'compound': -0.5974}\n",
            "None\n"
          ]
        }
      ]
    },
    {
      "cell_type": "code",
      "source": [
        "from vaderSentiment.vaderSentiment import SentimentIntensityAnalyzer\n",
        "analyser= SentimentIntensityAnalyzer()\n",
        "def sentiment_analyzer_scores(sentence):\n",
        "  score=analyser.polarity_scores(sentence)\n",
        "  print(\"{:-<40}{}\".format(sentence,str(score)))\n",
        "print(sentiment_analyzer_scores('I enjoyed the food your parents made, but I didn\\'t imagine it would be that spicy.'))"
      ],
      "metadata": {
        "id": "YdHUqeKKvbjz",
        "colab": {
          "base_uri": "https://localhost:8080/"
        },
        "outputId": "dde93fd4-c145-4071-ee25-54b4a14b974a"
      },
      "execution_count": 7,
      "outputs": [
        {
          "output_type": "stream",
          "name": "stdout",
          "text": [
            "I enjoyed the food your parents made, but I didn't imagine it would be that spicy.{'neg': 0.0, 'neu': 0.875, 'pos': 0.125, 'compound': 0.2846}\n",
            "None\n"
          ]
        }
      ]
    }
  ]
}
